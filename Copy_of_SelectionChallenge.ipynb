{
  "nbformat": 4,
  "nbformat_minor": 0,
  "metadata": {
    "colab": {
      "provenance": [],
      "include_colab_link": true
    },
    "kernelspec": {
      "name": "python3",
      "display_name": "Python 3"
    },
    "language_info": {
      "name": "python"
    }
  },
  "cells": [
    {
      "cell_type": "markdown",
      "metadata": {
        "id": "view-in-github",
        "colab_type": "text"
      },
      "source": [
        "<a href=\"https://colab.research.google.com/github/annablankovska/learn_python/blob/main/Copy_of_SelectionChallenge.ipynb\" target=\"_parent\"><img src=\"https://colab.research.google.com/assets/colab-badge.svg\" alt=\"Open In Colab\"/></a>"
      ]
    },
    {
      "cell_type": "markdown",
      "source": [
        "<a href=\"https://colab.research.google.com/github/StefanMeyer7/Python-Fundamentals/blob/main/SelectionChallenge.ipynb\" target=\"_parent\"><img src=\"https://colab.research.google.com/assets/colab-badge.svg\" alt=\"Open In Colab\"/></a>"
      ],
      "metadata": {
        "id": "hypbENCo_DGn"
      }
    },
    {
      "cell_type": "markdown",
      "source": [
        "# Three selection challenges\n",
        "\n",
        "---\n"
      ],
      "metadata": {
        "id": "dXBVr9XG_X_R"
      }
    },
    {
      "cell_type": "markdown",
      "source": [
        "### Challenge 1 - password format  \n",
        "\n",
        "Write a function called **check_password_valid()** which will check the validity of a **password** input by a user.\n",
        "\n",
        "Rules for a valid password are:  \n",
        "\n",
        "*  At least 1 letter between [a-z] and 1 letter between [A-Z].\n",
        "*  At least 1 number between [0-9].\n",
        "*  At least 1 character from [$#@].\n",
        "*  Minimum length 6 characters.\n",
        "*  Maximum length 16 characters.  \n",
        "\n",
        "Let the user know if the `password` they have typed is valid and, if not, where was the first error.\n",
        "\n",
        "*Hint:  to test if a set of characters is present in a password String, you can use re.search('[character set]', `password`)*  \n",
        "\n",
        "Example:   \n",
        "*if re.search('[a-z]',`password`):*    \n",
        "if there is at least 1 character a-z in the password, re.search will not be None.\n",
        "\n",
        "**re** is a pre-written Python function for pattern searching in Strings.  It has been imported for you in the code cell below.  "
      ],
      "metadata": {
        "id": "_6gwhxsa_Yqt"
      }
    },
    {
      "cell_type": "code",
      "source": [
        "import re\n",
        "\n",
        "\n",
        "def check_password_valid():\n",
        "    password = input(\"Please enter a password following these rules:\\n\"\n",
        "                     \"At least 1 letter between [a-z] and 1 letter between [A-Z].\\n\"\n",
        "                     \"At least 1 number between [0-9].\\n\"\n",
        "                     \"At least 1 character from [$#@].\\n\"\n",
        "                     \"Minimum length 6 characters.\\n\"\n",
        "                     \"Maximum length 16 characters.\\n\")\n",
        "\n",
        "    if not (6 <= len(password) <= 16):\n",
        "        print(\"Incorrect password length. Password should be between 6 and 16 characters.\")\n",
        "        return\n",
        "    if not re.search('[a-z]', password):\n",
        "        print(\"Incorrect password. It should contain at least 1 lowercase letter [a-z].\")\n",
        "    elif not re.search('[A-Z]', password):\n",
        "        print(\"Incorrect password. It should contain at least 1 uppercase letter [A-Z].\")\n",
        "    elif not re.search('[0-9]', password):\n",
        "        print(\"Incorrect password. It should contain at least 1 digit [0-9].\")\n",
        "    elif not re.search('[$#@]', password):\n",
        "        print(\"Incorrect password. It should contain at least 1 character from [$#@].\")\n",
        "    else:\n",
        "        print(\"Your password is valid.\")\n",
        "\n",
        "\n",
        "\n",
        "check_password_valid()"
      ],
      "metadata": {
        "id": "LbgP53vJ_a2T",
        "colab": {
          "base_uri": "https://localhost:8080/"
        },
        "outputId": "f498f5f4-d133-4bd7-b93f-ba192161b6a7"
      },
      "execution_count": 13,
      "outputs": [
        {
          "output_type": "stream",
          "name": "stdout",
          "text": [
            "Please enter a password following these rules:\n",
            "At least 1 letter between [a-z] and 1 letter between [A-Z].\n",
            "At least 1 number between [0-9].\n",
            "At least 1 character from [$#@].\n",
            "Minimum length 6 characters.\n",
            "Maximum length 16 characters.\n",
            "@1Asdfghj\n",
            "Your password is valid.\n"
          ]
        }
      ]
    },
    {
      "cell_type": "markdown",
      "source": [
        "---\n",
        "### Challenge 2 - triangle shape  \n",
        "\n",
        "Write a function called **evaluate_triangle_shape()** which will check if a triangle is equilateral, isosceles or scalene, based on the three side lengths entered by a user (**x**, **y** and **z**).\n",
        "\n",
        "An equilateral triangle is a triangle in which all three sides are equal.\n",
        "A scalene triangle is a triangle that has three unequal sides.\n",
        "An isosceles triangle is a triangle with (at least) two equal sides.\n",
        "\n",
        "For example:  \n",
        "A triange with side lengths                                 \n",
        "x: 6                                                                    \n",
        "y: 8                                                                    \n",
        "z: 12                                                                   \n",
        "is a *Scalene triangle*\n",
        "\n",
        "A triangle with side lengths\n",
        "x:5  \n",
        "y:3   \n",
        "z:5  \n",
        "is an *Isosceles triangle*"
      ],
      "metadata": {
        "id": "ItfugXAk_cJI"
      }
    },
    {
      "cell_type": "code",
      "source": [
        "def evaluate_triangle_shape():\n",
        "    side_x = int(input(\"Please enter a lenght side one: \"))\n",
        "    side_y = int(input(\"Please enter a lenght side two: \"))\n",
        "    side_z = int(input(\"Please enter a lenght side three: \"))\n",
        "\n",
        "    if side_x==side_y==side_z:\n",
        "        print(\"You have an Equilateral triangle.\")\n",
        "    elif (side_x<side_y==side_z or\n",
        "          side_x>side_y==side_z or\n",
        "          side_x==side_y>side_z or\n",
        "          side_x==side_y<side_z or\n",
        "          side_y<side_z==side_x or\n",
        "          side_y>side_z==side_x):\n",
        "          print(\"You have an Isosceles triangle.\")\n",
        "    else:\n",
        "        print(\"You have a Scalene triangle.\")\n",
        "\n",
        "\n",
        "evaluate_triangle_shape()"
      ],
      "metadata": {
        "id": "YhvNRSrR_fwV",
        "colab": {
          "base_uri": "https://localhost:8080/"
        },
        "outputId": "da02c7dd-bebe-4435-d9d4-ace58fada69a"
      },
      "execution_count": 18,
      "outputs": [
        {
          "output_type": "stream",
          "name": "stdout",
          "text": [
            "Please enter a lenght side one: 3\n",
            "Please enter a lenght side two: 5\n",
            "Please enter a lenght side three: 5\n",
            "You have an Isosceles triangle.\n"
          ]
        }
      ]
    },
    {
      "cell_type": "markdown",
      "source": [
        "---\n",
        "### Challenge 3 - which season\n",
        "\n",
        "Write a function called **determine_season()** which will ask the user to enter two integers representing a **month** and **day** and prints the season for that month and day.\n",
        "\n",
        "Note:  for this exercise the season dates are:\n",
        "*  Winter December 21 to March 20    \n",
        "*  Spring March 21 to June 20  \n",
        "*  Summer June 21 to September 20  \n",
        "*  Autumn September 21 to December 20\n",
        "\n",
        "Test input:  \n",
        "Input the month (e.g. January, February etc.): 7                     \n",
        "Input the day: 31                                                       \n",
        "\n",
        "Expected output:  \n",
        "Season is summer\n",
        "\n",
        "*Note: this will require multiple and or or operators and you should use brackets to help Python know which operations to do first*  \n",
        "\n",
        "*For an extra challenge you can check that the day is valid for the month*"
      ],
      "metadata": {
        "id": "DEy3P3-O_gsI"
      }
    },
    {
      "cell_type": "code",
      "source": [
        "def determine_season():\n",
        "    month = int(input(\"Please input the month (e.g. January, February etc.): \"))\n",
        "    day = int(input(\"Please input the day: \"))\n",
        "\n",
        "    if (month==12 and 21<=day<=31) or (month==1 and 1<=day<= 31) or (month==2 and 1<=day<= 29) or (month==3 and 1<=day<=20):\n",
        "        print(\"Season is Winter\")\n",
        "    elif (month==3 and 21<=day<=31) or (month==4 and 1<=day<=30) or (month==5 and 1<=day<=31) or (month==6 and 1<=day<=20):\n",
        "        print(\"Season is Spring\")\n",
        "    elif (month==6 and 21<=day<=30) or (month==7 and 1<=day<=31) or (month==8 and 1<=day<=31) or (month==9 and 1<=day<=20):\n",
        "        print(\"Season is Summer\")\n",
        "    elif (month==9 and 21<=day<=30) or (month==10 and 1<=day<=31) or (month==11 and 1<=day<=30) or (month==12 and 1<=day<=20):\n",
        "        print(\"Season is Autumn\")\n",
        "    else:\n",
        "        print(\"Incorrect date, please try another\")\n",
        "\n",
        "\n",
        "\n",
        "determine_season()\n"
      ],
      "metadata": {
        "id": "5hKAawCu_iln",
        "colab": {
          "base_uri": "https://localhost:8080/"
        },
        "outputId": "f85e4d97-5ea1-4967-b344-ab3380be15aa"
      },
      "execution_count": 28,
      "outputs": [
        {
          "output_type": "stream",
          "name": "stdout",
          "text": [
            "Please input the month (e.g. January, February etc.): 7\n",
            "Please input the day: 31\n",
            "Season is Summer\n"
          ]
        }
      ]
    }
  ]
}